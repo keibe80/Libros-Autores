{
 "cells": [
  {
   "cell_type": "markdown",
   "metadata": {},
   "source": [
    "# Proyecto final: SQL y los libros durante la pandemia"
   ]
  },
  {
   "cell_type": "markdown",
   "metadata": {},
   "source": [
    "# Índice\n",
    "1. [Introducción](#in)\n",
    "2. [Objetivos](#ob)\n",
    "2. [Conexión a la base de datos](#cx)\n",
    "3. [Visualización datos](#vi)\n",
    "4. [Análisis 1: Número de libros del último año del segundo milenio](#ln)\n",
    "5. [Análisis 2: Reseñas y calificaciones](#rc)\n",
    "6. [Análisis 3: Editorial más famosa](#ef)\n",
    "7. [Análisis 4: Autor más famosa](#af)\n",
    "8. [Análisis 5: Proporción reseñas con texto](#pt)\n",
    "9. [Análisis 5: Análisis 6: Reseñas con texto](#rtx)\n",
    "10. [Conclusiones](#cl)"
   ]
  },
  {
   "cell_type": "markdown",
   "metadata": {},
   "source": [
    "##  Introducción  <a class=\"anchor\" id=\"in\"></a>\n",
    "\n",
    "El brote del coronavirus sorprendió al mundo entero, alterando de manera radical las rutinas diarias de millones de personas. Las ciudades, que previamente eran centros de actividad social, se vieron vacías, ya que la mayoría de los ciudadanos optó por quedarse en casa para evitar el contagio. Este cambio de hábitos llevó a muchas personas a buscar nuevas formas de entretenimiento y conocimiento, y los libros se convirtieron en una opción popular para ocupar el tiempo libre. Las librerías físicas fueron reemplazadas por plataformas digitales, donde los usuarios podían acceder a una amplia variedad de títulos desde la comodidad de su hogar.\n",
    "\n",
    "Este cambio en los hábitos de consumo llamó la atención de las startups y empresas emergentes, que rápidamente desarrollaron nuevas aplicaciones orientadas a satisfacer las necesidades de los amantes de la lectura. Con el objetivo de captar la atención de un público cada vez más interesado en la literatura, estas plataformas comenzaron a ofrecer servicios de recomendación de libros, reseñas de usuarios y otras funcionalidades que facilitaran la experiencia de lectura digital.\n",
    "\n",
    "En este contexto, se nos ha proporcionado una base de datos de uno de los servicios que compiten en este mercado, que contiene información relevante sobre libros, editoriales, autores, calificaciones de clientes y reseñas de libros. Esta valiosa información será utilizada para generar una propuesta de valor para un nuevo producto en el sector de las plataformas literarias. La intención es aprovechar los datos disponibles para analizar las preferencias de los usuarios y crear una propuesta innovadora que responda a las necesidades actuales del mercado de la lectura digital."
   ]
  },
  {
   "cell_type": "markdown",
   "metadata": {},
   "source": [
    "##  Objetivos <a class=\"anchor\" id=\"ob\"></a>\n",
    "\n",
    "- Encontrar el número de libros publicados después del 1 de enero de 2000.\n",
    "- Encontrar el número de reseñas de usuarios y la calificación promedio para cada libro.\n",
    "- Identificar la editorial que ha publicado el mayor número de libros con más de 50 páginas (esto te ayudará a excluir folletos y publicaciones similares de tu análisis).\n",
    "- Identificar al autor que tiene la más alta calificación promedio del libro: mira solo los libros con al menos 50 calificaciones.\n",
    "- Encontrar el número promedio de reseñas de texto entre los usuarios que calificaron más de 50 libros."
   ]
  },
  {
   "cell_type": "markdown",
   "metadata": {},
   "source": [
    "##  Conexión a la base de datos  <a class=\"anchor\" id=\"cx\"></a>\n",
    "\n",
    "Se establece conexión a la base de datos dentro del archivo .ipynb, mediante el siguiente código, el mismo utiliza la configuración proporcionada y la librería sqlalchemy para crear la conexión. Se importa la libreria pandas para poder visualozar las consultas en forma de tablas."
   ]
  },
  {
   "cell_type": "code",
   "execution_count": 1,
   "metadata": {},
   "outputs": [],
   "source": [
    "# importar librerías\n",
    "import pandas as pd\n",
    "from sqlalchemy import create_engine\n",
    "\n",
    "\n",
    "db_config = {'user': 'practicum_student',         # nombre de usuario\n",
    "             'pwd': 's65BlTKV3faNIGhmvJVzOqhs', # contraseña\n",
    "             'host': 'rc1b-wcoijxj3yxfsf3fs.mdb.yandexcloud.net',\n",
    "             'port': 6432,              # puerto de conexión\n",
    "             'db': 'data-analyst-final-project-db'}          # nombre de la base de datos\n",
    "\n",
    "connection_string = 'postgresql://{}:{}@{}:{}/{}'.format(db_config['user'],\n",
    "                                                                     db_config['pwd'],\n",
    "                                                                       db_config['host'],\n",
    "                                                                       db_config['port'],\n",
    "                                                                       db_config['db'])\n",
    "\n",
    "engine = create_engine(connection_string, connect_args={'sslmode':'require'})"
   ]
  },
  {
   "cell_type": "markdown",
   "metadata": {},
   "source": [
    "##  Visualización datos <a class=\"anchor\" id=\"vi\"></a>\n",
    "\n",
    "Se imprime las primeras 5 filas de cada una de las tablas"
   ]
  },
  {
   "cell_type": "markdown",
   "metadata": {},
   "source": [
    "Tabla books"
   ]
  },
  {
   "cell_type": "code",
   "execution_count": 2,
   "metadata": {},
   "outputs": [
    {
     "name": "stdout",
     "output_type": "stream",
     "text": [
      "   book_id  author_id                                              title  \\\n",
      "0        1        546                                       'Salem's Lot   \n",
      "1        2        465                 1 000 Places to See Before You Die   \n",
      "2        3        407  13 Little Blue Envelopes (Little Blue Envelope...   \n",
      "3        4         82  1491: New Revelations of the Americas Before C...   \n",
      "4        5        125                                               1776   \n",
      "\n",
      "   num_pages publication_date  publisher_id  \n",
      "0        594       2005-11-01            93  \n",
      "1        992       2003-05-22           336  \n",
      "2        322       2010-12-21           135  \n",
      "3        541       2006-10-10           309  \n",
      "4        386       2006-07-04           268  \n"
     ]
    }
   ],
   "source": [
    "query_books = \"SELECT * FROM books LIMIT 5;\"  # Seleccionamos las primeras 5 filas\n",
    "df_books = pd.io.sql.read_sql(query_books, con=engine)\n",
    "print(df_books)"
   ]
  },
  {
   "cell_type": "markdown",
   "metadata": {},
   "source": [
    "Tabla authors"
   ]
  },
  {
   "cell_type": "code",
   "execution_count": 3,
   "metadata": {},
   "outputs": [
    {
     "name": "stdout",
     "output_type": "stream",
     "text": [
      "   author_id                          author\n",
      "0          1                      A.S. Byatt\n",
      "1          2  Aesop/Laura Harris/Laura Gibbs\n",
      "2          3                 Agatha Christie\n",
      "3          4                   Alan Brennert\n",
      "4          5        Alan Moore/David   Lloyd\n"
     ]
    }
   ],
   "source": [
    "query_authors = \"SELECT * FROM authors LIMIT 5;\"\n",
    "df_authors = pd.io.sql.read_sql(query_authors, con=engine)\n",
    "print(df_authors)"
   ]
  },
  {
   "cell_type": "markdown",
   "metadata": {},
   "source": [
    "Tabla publishers"
   ]
  },
  {
   "cell_type": "code",
   "execution_count": 4,
   "metadata": {},
   "outputs": [
    {
     "name": "stdout",
     "output_type": "stream",
     "text": [
      "   publisher_id                          publisher\n",
      "0             1                                Ace\n",
      "1             2                           Ace Book\n",
      "2             3                          Ace Books\n",
      "3             4                      Ace Hardcover\n",
      "4             5  Addison Wesley Publishing Company\n"
     ]
    }
   ],
   "source": [
    "query_publishers = \"SELECT * FROM publishers LIMIT 5;\"\n",
    "df_publishers = pd.io.sql.read_sql(query_publishers, con=engine)\n",
    "print(df_publishers)"
   ]
  },
  {
   "cell_type": "markdown",
   "metadata": {},
   "source": [
    "Tabla ratings"
   ]
  },
  {
   "cell_type": "code",
   "execution_count": 5,
   "metadata": {},
   "outputs": [
    {
     "name": "stdout",
     "output_type": "stream",
     "text": [
      "   rating_id  book_id       username  rating\n",
      "0          1        1     ryanfranco       4\n",
      "1          2        1  grantpatricia       2\n",
      "2          3        1   brandtandrea       5\n",
      "3          4        2       lorichen       3\n",
      "4          5        2    mariokeller       2\n"
     ]
    }
   ],
   "source": [
    "query_ratings = \"SELECT * FROM ratings LIMIT 5;\"\n",
    "df_ratings = pd.io.sql.read_sql(query_ratings, con=engine)\n",
    "print(df_ratings)"
   ]
  },
  {
   "cell_type": "markdown",
   "metadata": {},
   "source": [
    "Tabla reviews"
   ]
  },
  {
   "cell_type": "code",
   "execution_count": 6,
   "metadata": {},
   "outputs": [
    {
     "name": "stdout",
     "output_type": "stream",
     "text": [
      "   review_id  book_id       username  \\\n",
      "0          1        1   brandtandrea   \n",
      "1          2        1     ryanfranco   \n",
      "2          3        2       lorichen   \n",
      "3          4        3  johnsonamanda   \n",
      "4          5        3    scotttamara   \n",
      "\n",
      "                                                text  \n",
      "0  Mention society tell send professor analysis. ...  \n",
      "1  Foot glass pretty audience hit themselves. Amo...  \n",
      "2  Listen treat keep worry. Miss husband tax but ...  \n",
      "3  Finally month interesting blue could nature cu...  \n",
      "4  Nation purpose heavy give wait song will. List...  \n"
     ]
    }
   ],
   "source": [
    "query_reviews = \"SELECT * FROM reviews LIMIT 5;\"\n",
    "df_reviews = pd.io.sql.read_sql(query_reviews, con=engine)\n",
    "print(df_reviews)"
   ]
  },
  {
   "cell_type": "markdown",
   "metadata": {},
   "source": [
    "##  Análisis 1: Número de libros del último año del segundo milenio <a class=\"anchor\" id=\"ln\"></a>\n",
    "\n",
    "Se buscará el número de libros publicados después del 1 de enero de 2000."
   ]
  },
  {
   "cell_type": "code",
   "execution_count": 7,
   "metadata": {},
   "outputs": [
    {
     "name": "stdout",
     "output_type": "stream",
     "text": [
      "   libros_despues_del_01_01_2000\n",
      "0                            819\n"
     ]
    }
   ],
   "source": [
    "query_2000 = \"SELECT COUNT(*) AS Libros_despues_del_01_01_2000 FROM books WHERE publication_date > '2000-01-01';\"\n",
    "df_2000 = pd.io.sql.read_sql(query_2000, con=engine)\n",
    "print(df_2000)"
   ]
  },
  {
   "cell_type": "markdown",
   "metadata": {},
   "source": [
    "Se observa que se tienen 819 libros registrados despues de del 1 de enero de 2000"
   ]
  },
  {
   "cell_type": "markdown",
   "metadata": {},
   "source": [
    "##  Análisis 2: Reseñas y calificaciones <a class=\"anchor\" id=\"rc\"></a>\n",
    "\n",
    "Se buscará el número de reseñas de usuarios y la calificación promedio para cada libro."
   ]
  },
  {
   "cell_type": "code",
   "execution_count": 8,
   "metadata": {},
   "outputs": [
    {
     "name": "stdout",
     "output_type": "stream",
     "text": [
      "                                                 title  reviews  avg_rating\n",
      "0                              Twilight (Twilight  #1)     1120    3.662500\n",
      "1                  The Hobbit  or There and Back Again      528    4.125000\n",
      "2                               The Catcher in the Rye      516    3.825581\n",
      "3    Harry Potter and the Prisoner of Azkaban (Harr...      492    4.414634\n",
      "4    Harry Potter and the Chamber of Secrets (Harry...      480    4.287500\n",
      "..                                                 ...      ...         ...\n",
      "994                            The Natural Way to Draw        0    3.000000\n",
      "995                          Essential Tales and Poems        0    4.000000\n",
      "996   The Cat in the Hat and Other Dr. Seuss Favorites        0    5.000000\n",
      "997                               Leonardo's Notebooks        0    4.000000\n",
      "998  Disney's Beauty and the Beast (A Little Golden...        0    4.000000\n",
      "\n",
      "[999 rows x 3 columns]\n"
     ]
    }
   ],
   "source": [
    "query_1 = \"SELECT b.title AS title, count(r1.review_id) AS reviews, avg(r2.rating) as avg_rating FROM books b LEFT JOIN ratings r2 ON b.book_id = r2.book_id LEFT JOIN reviews r1 ON b.book_id = r1.book_id GROUP BY b.title ORDER BY reviews DESC;;\"\n",
    "df_u_avg = pd.io.sql.read_sql(query_1, con=engine)\n",
    "print(df_u_avg)\n"
   ]
  },
  {
   "cell_type": "markdown",
   "metadata": {},
   "source": [
    "A partir del análisis de los datos, se observa que existen alrededor de 1000 libros, cada uno con un número determinado de reseñas y una calificación promedio asociada. Los resultados están organizados en orden descendente, lo que sugiere que los libros en las primeras posiciones son los más populares o visibilizados, mientras que aquellos al final de la lista podrían tener menos alcance o reconocimiento. Es importante destacar que algunos de los libros en las primeras posiciones de la lista han sido adaptados al cine, lo que podría explicar su mayor popularidad y visibilidad. Las adaptaciones cinematográficas suelen atraer más atención al libro original, lo que resulta en un aumento en las calificaciones y reseñas. Esto podría ser un factor clave para su éxito y alta presencia en la lista."
   ]
  },
  {
   "cell_type": "markdown",
   "metadata": {},
   "source": [
    "##  Análisis 3: Editorial más famosa <a class=\"anchor\" id=\"ef\"></a>\n",
    "\n",
    "se identificará la editorial que ha publicado el mayor número de libros con más de 50 páginas con el fin de excluir folletos y publicaciones similares de tu análisis."
   ]
  },
  {
   "cell_type": "code",
   "execution_count": 9,
   "metadata": {},
   "outputs": [
    {
     "name": "stdout",
     "output_type": "stream",
     "text": [
      "                                             publisher  num_books\n",
      "0                                        Penguin Books         42\n",
      "1                                              Vintage         31\n",
      "2                             Grand Central Publishing         25\n",
      "3                                     Penguin Classics         24\n",
      "4                                     Ballantine Books         19\n",
      "..                                                 ...        ...\n",
      "329                                         Turtleback          1\n",
      "330  Atheneum Books for Young Readers: Richard Jack...          1\n",
      "331                                     Penguin Signet          1\n",
      "332                                    Victor Gollancz          1\n",
      "333                      Harvard Business Review Press          1\n",
      "\n",
      "[334 rows x 2 columns]\n"
     ]
    }
   ],
   "source": [
    "query_2 = \"\"\"\n",
    "SELECT p.publisher AS publisher, COUNT(b.book_id) AS num_books\n",
    "FROM books b\n",
    "LEFT JOIN publishers p ON b.publisher_id = p.publisher_id\n",
    "WHERE b.num_pages > 50\n",
    "GROUP BY p.publisher\n",
    "ORDER BY num_books DESC;\n",
    "\"\"\"\n",
    "df_edit50 = pd.io.sql.read_sql(query_2, con=engine)\n",
    "print(df_edit50)"
   ]
  },
  {
   "cell_type": "markdown",
   "metadata": {},
   "source": [
    "Podemos observar que la editorial Penguin Books obstenta el mayor número de libros (con más de 50 páginas) publicados, excactamente 42 libros en total.  "
   ]
  },
  {
   "cell_type": "markdown",
   "metadata": {},
   "source": [
    "##  Análisis 4: Autor más famosa <a class=\"anchor\" id=\"af\"></a>\n",
    "\n",
    "Se identificará al autor que tiene la más alta calificación promedio del libro: mira solo los libros con al menos 50 calificaciones."
   ]
  },
  {
   "cell_type": "code",
   "execution_count": 10,
   "metadata": {},
   "outputs": [
    {
     "name": "stdout",
     "output_type": "stream",
     "text": [
      "                              author  avg_author_rating\n",
      "0         J.K. Rowling/Mary GrandPré           4.283844\n",
      "1  Markus Zusak/Cao Xuân Việt Khương           4.264151\n",
      "2                     J.R.R. Tolkien           4.258446\n",
      "3                  Louisa May Alcott           4.192308\n",
      "4                       Rick Riordan           4.080645\n"
     ]
    }
   ],
   "source": [
    "query_3 = \"\"\"\n",
    "SELECT a.author AS author, AVG(br.avg_rating) AS avg_author_rating \n",
    "FROM authors a \n",
    "JOIN (\n",
    "    SELECT b.author_id, b.book_id, COUNT(r.rating_id) AS num_ratings, AVG(r.rating) AS avg_rating \n",
    "    FROM books b \n",
    "    LEFT JOIN ratings r ON b.book_id = r.book_id \n",
    "    GROUP BY b.author_id, b.book_id \n",
    "    HAVING COUNT(r.rating_id) >= 50  -- Filtrando lod libros con al menos 50 calificaciones\n",
    ") br ON a.author_id = br.author_id  -- Uniendo resultado con la tabla de autores \n",
    "GROUP BY a.author_id \n",
    "ORDER BY avg_author_rating DESC \n",
    "LIMIT 5;\n",
    "\"\"\"\n",
    "\n",
    "df_author50 = pd.io.sql.read_sql(query_3, con=engine)\n",
    "print(df_author50)"
   ]
  },
  {
   "cell_type": "markdown",
   "metadata": {},
   "source": [
    "Los cinco principales autores, en cuanto a calificación promedio se refiere, están bastante cerca entre sí, con J.K. Rowling/Mary GrandPré ocupando la primera posición. Este resultado es consistente, ya que J.K. Rowling es la autora de los libros de Harry Potter, los cuales tuvieron un impacto masivo tanto en el ámbito literario como en el cinematográfico. Su éxito comercial y cultural contribuye a las altas calificaciones promedio de sus obras. La popularidad de los libros de Harry Potter, junto con sus adaptaciones cinematográficas, explica su dominio en esta clasificación."
   ]
  },
  {
   "cell_type": "markdown",
   "metadata": {},
   "source": [
    "##  Análisis 5: Proporción reseñas con texto <a class=\"anchor\" id=\"pt\"></a>\n",
    "\n",
    "El objetivo de este análisis es verificar que los usuarios que han calificado más de 50 libros siempre incluyen un texto en sus reseñas."
   ]
  },
  {
   "cell_type": "code",
   "execution_count": 11,
   "metadata": {},
   "outputs": [
    {
     "name": "stdout",
     "output_type": "stream",
     "text": [
      "   avg_reviews_text\n",
      "0               1.0\n"
     ]
    }
   ],
   "source": [
    "query_4 = ''' \n",
    " WITH users_with_ratings AS (\n",
    "    SELECT username, COUNT(DISTINCT book_id) AS num_ratings\n",
    "    FROM ratings\n",
    "    GROUP BY username\n",
    "    HAVING COUNT(DISTINCT book_id) > 50\n",
    ")\n",
    "SELECT AVG(CASE WHEN r.text IS NOT NULL THEN 1 ELSE 0 END) AS avg_reviews_text\n",
    "FROM reviews r\n",
    "INNER JOIN users_with_ratings uwr ON r.username = uwr.username;\n",
    "'''\n",
    "df_user_review = pd.io.sql.read_sql(query_4, con=engine)\n",
    "print(df_user_review)\n",
    "\n",
    "\n"
   ]
  },
  {
   "cell_type": "markdown",
   "metadata": {},
   "source": [
    "El resultado obtenido, 1.0, significa que el 100% de las reseñas de los usuarios que han calificado más de 50 libros contienen texto. Esto indica que estos usuarios, al ser tan activos en la plataforma, siempre proporcionan un texto explicativo con sus calificaciones, lo que refleja un nivel de compromiso alto y detallado en sus reseñas.\n",
    "\n",
    "Debido a que sabemos que el 100% de las reseñas en estso usuarios son con texto procedemos a hacer la consulta del promedio."
   ]
  },
  {
   "cell_type": "markdown",
   "metadata": {},
   "source": [
    "##  Análisis 6: Reseñas con texto <a class=\"anchor\" id=\"rtx\"></a>\n",
    "\n",
    "Encuentra el número promedio de reseñas de texto entre los usuarios que calificaron más de 50 libros."
   ]
  },
  {
   "cell_type": "code",
   "execution_count": 12,
   "metadata": {},
   "outputs": [
    {
     "name": "stdout",
     "output_type": "stream",
     "text": [
      "   avg_reviews_text\n",
      "0         24.333333\n"
     ]
    }
   ],
   "source": [
    "query_5 = ''' \n",
    "WITH users_with_ratings AS (\n",
    "    SELECT username, COUNT(DISTINCT book_id) AS num_ratings\n",
    "    FROM ratings\n",
    "    GROUP BY username\n",
    "    HAVING COUNT(DISTINCT book_id) > 50\n",
    ")\n",
    "SELECT AVG(review_count) AS avg_reviews_text\n",
    "FROM (\n",
    "    SELECT r.username, COUNT(CASE WHEN r.text IS NOT NULL THEN 1 ELSE NULL END) AS review_count\n",
    "    FROM reviews r\n",
    "    INNER JOIN users_with_ratings uwr ON r.username = uwr.username\n",
    "    GROUP BY r.username\n",
    ") AS user_reviews_with_text;\n",
    "'''\n",
    "df_user_review_1 = pd.io.sql.read_sql(query_5, con=engine)\n",
    "print(df_user_review_1)"
   ]
  },
  {
   "cell_type": "markdown",
   "metadata": {},
   "source": [
    "En promedio, cada usuario que ha calificado más de 50 libros ha escrito 24.33 reseñas con texto. Esto quiere decir que en promedio, estos usuarios dejan una buena cantidad de reseñas detalladas, lo que refleja un comportamiento activo en la comunidad."
   ]
  },
  {
   "cell_type": "markdown",
   "metadata": {},
   "source": [
    "##  Conclusiones <a class=\"anchor\" id=\"cl\"></a>\n",
    "\n",
    "A partir del análisis realizado, se han obtenido varios hallazgos clave que ofrecen una visión más clara sobre el comportamiento de los libros, autores y usuarios en la plataforma:\n",
    "\n",
    "Número de libros publicados después del 1 de enero de 2000: Se ha identificado un total de 819 libros publicados después de esa fecha, lo que sugiere una actividad constante en la industria editorial en este período, con una oferta significativa de contenido nuevo para los lectores.\n",
    "\n",
    "Reseñas y calificaciones promedio de los libros: Se ha observado que los libros están organizados en orden descendente, con los más populares o visibilizados ocupando las primeras posiciones. Este patrón podría estar relacionado con el impacto mediático de ciertos libros, especialmente aquellos que han sido adaptados al cine. La relación entre la popularidad y la alta calificación promedio resalta que los libros más conocidos también son bien recibidos por los lectores.\n",
    "\n",
    "Editorial más prolífica: La editorial Penguin Books ha publicado el mayor número de libros con más de 50 páginas, con un total de 42 libros. Esto indica que Penguin sigue siendo una editorial líder en términos de producción literaria de mayor contenido, excluyendo folletos y publicaciones más ligeras.\n",
    "\n",
    "Autor con mayor calificación promedio: En cuanto a los autores, J.K. Rowling/Mary GrandPré ocupa la primera posición en cuanto a calificación promedio, lo que refleja la enorme popularidad de los libros de la serie Harry Potter. Este éxito está vinculado tanto al impacto literario de la saga como a sus exitosas adaptaciones cinematográficas, que continúan alimentando el interés y la admiración de los lectores.\n",
    "\n",
    "Comportamiento de los usuarios más activos: Para los usuarios que han calificado más de 50 libros, se observa que el 100% de sus reseñas contienen texto, lo que demuestra un alto nivel de compromiso y dedicación. Además, en promedio, estos usuarios escriben 24.33 reseñas con texto, lo que refleja una participación activa y detallada en la plataforma, contribuyendo con retroalimentación valiosa para otros lectores.\n",
    "\n",
    "En general, este análisis ha permitido identificar patrones claros de popularidad entre libros y autores, así como el comportamiento de los usuarios más activos. La influencia de factores como las adaptaciones cinematográficas y el nivel de compromiso de los usuarios son elementos clave que afectan la visibilidad y el impacto de los libros. Estos hallazgos pueden ser utilizados para guiar estrategias de marketing y para mejorar la experiencia de la comunidad de lectores."
   ]
  }
 ],
 "metadata": {
  "kernelspec": {
   "display_name": "Python 3",
   "language": "python",
   "name": "python3"
  },
  "language_info": {
   "codemirror_mode": {
    "name": "ipython",
    "version": 3
   },
   "file_extension": ".py",
   "mimetype": "text/x-python",
   "name": "python",
   "nbconvert_exporter": "python",
   "pygments_lexer": "ipython3",
   "version": "3.13.0"
  }
 },
 "nbformat": 4,
 "nbformat_minor": 2
}
